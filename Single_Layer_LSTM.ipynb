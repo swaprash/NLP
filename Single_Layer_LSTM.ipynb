{
  "nbformat": 4,
  "nbformat_minor": 0,
  "metadata": {
    "colab": {
      "name": "Single_Layer_LSTM.ipynb",
      "provenance": [],
      "authorship_tag": "ABX9TyOQlONAq1nmAWzYoUQDvHgV",
      "include_colab_link": true
    },
    "kernelspec": {
      "name": "python3",
      "display_name": "Python 3"
    },
    "accelerator": "GPU"
  },
  "cells": [
    {
      "cell_type": "markdown",
      "metadata": {
        "id": "view-in-github",
        "colab_type": "text"
      },
      "source": [
        "<a href=\"https://colab.research.google.com/github/swaprash/NLP/blob/master/Single_Layer_LSTM.ipynb\" target=\"_parent\"><img src=\"https://colab.research.google.com/assets/colab-badge.svg\" alt=\"Open In Colab\"/></a>"
      ]
    },
    {
      "cell_type": "code",
      "metadata": {
        "id": "0RUwmB6Y4iRx",
        "colab_type": "code",
        "colab": {
          "base_uri": "https://localhost:8080/",
          "height": 34
        },
        "outputId": "b98e1b3d-f5d7-4026-c129-183ac4d7e91b"
      },
      "source": [
        "from __future__ import absolute_import, division, print_function, unicode_literals\n",
        "\n",
        "\n",
        "import tensorflow_datasets as tfds\n",
        "import tensorflow as tf\n",
        "print(tf.__version__)"
      ],
      "execution_count": 1,
      "outputs": [
        {
          "output_type": "stream",
          "text": [
            "2.2.0\n"
          ],
          "name": "stdout"
        }
      ]
    },
    {
      "cell_type": "code",
      "metadata": {
        "colab_type": "code",
        "id": "AW-4Vo4TMUHb",
        "colab": {}
      },
      "source": [
        "# Get the data\n",
        "dataset, info = tfds.load('imdb_reviews/subwords8k', with_info=True, as_supervised=True)\n",
        "train_dataset, test_dataset = dataset['train'], dataset['test']"
      ],
      "execution_count": 19,
      "outputs": []
    },
    {
      "cell_type": "code",
      "metadata": {
        "id": "_Oz7yTYm4_Xv",
        "colab_type": "code",
        "colab": {}
      },
      "source": [
        "tokenizer=info.features['text'].encoder"
      ],
      "execution_count": 20,
      "outputs": []
    },
    {
      "cell_type": "code",
      "metadata": {
        "id": "nQ5vxA6e4_WM",
        "colab_type": "code",
        "colab": {}
      },
      "source": [
        "BUFFER_SIZE=10000\n",
        "BATCH_SIZE=64\n",
        "\n",
        "train_dataset = train_dataset.shuffle(BUFFER_SIZE)\n",
        "train_dataset = train_dataset.padded_batch(BATCH_SIZE, tf.compat.v1.data.get_output_shapes(train_dataset))\n",
        "test_dataset = test_dataset.padded_batch(BATCH_SIZE,tf.compat.v1.data.get_output_shapes(test_dataset))"
      ],
      "execution_count": 21,
      "outputs": []
    },
    {
      "cell_type": "code",
      "metadata": {
        "id": "FM2vdGXd4_SO",
        "colab_type": "code",
        "colab": {}
      },
      "source": [
        "model=tf.keras.Sequential([\n",
        "                           tf.keras.layers.Embedding(tokenizer.vocab_size,64),\n",
        "                           tf.keras.layers.Bidirectional(tf.keras.layers.LSTM(64)),\n",
        "                           tf.keras.layers.Dense(64,activation='relu'),\n",
        "                           tf.keras.layers.Dense(1,activation='sigmoid')\n",
        "])"
      ],
      "execution_count": 22,
      "outputs": []
    },
    {
      "cell_type": "code",
      "metadata": {
        "id": "-yrk7u9z4_QS",
        "colab_type": "code",
        "colab": {
          "base_uri": "https://localhost:8080/",
          "height": 289
        },
        "outputId": "892df419-b401-41ed-ab61-1b3f76f626a6"
      },
      "source": [
        "model.summary()"
      ],
      "execution_count": 23,
      "outputs": [
        {
          "output_type": "stream",
          "text": [
            "Model: \"sequential_2\"\n",
            "_________________________________________________________________\n",
            "Layer (type)                 Output Shape              Param #   \n",
            "=================================================================\n",
            "embedding_3 (Embedding)      (None, None, 64)          523840    \n",
            "_________________________________________________________________\n",
            "bidirectional_3 (Bidirection (None, 128)               66048     \n",
            "_________________________________________________________________\n",
            "dense_5 (Dense)              (None, 64)                8256      \n",
            "_________________________________________________________________\n",
            "dense_6 (Dense)              (None, 1)                 65        \n",
            "=================================================================\n",
            "Total params: 598,209\n",
            "Trainable params: 598,209\n",
            "Non-trainable params: 0\n",
            "_________________________________________________________________\n"
          ],
          "name": "stdout"
        }
      ]
    },
    {
      "cell_type": "code",
      "metadata": {
        "id": "6xchVTEO4_M-",
        "colab_type": "code",
        "colab": {}
      },
      "source": [
        "model.compile(loss='binary_crossentropy',optimizer='adam',metrics=['accuracy'])"
      ],
      "execution_count": 24,
      "outputs": []
    },
    {
      "cell_type": "code",
      "metadata": {
        "id": "Afwve8e74_K0",
        "colab_type": "code",
        "colab": {
          "base_uri": "https://localhost:8080/",
          "height": 357
        },
        "outputId": "c5b681d2-95a3-4e2f-9df2-91a9d7d37755"
      },
      "source": [
        "NUM_EPOCHS=10\n",
        "history=model.fit(train_dataset, epochs=NUM_EPOCHS,validation_data=test_dataset)"
      ],
      "execution_count": 25,
      "outputs": [
        {
          "output_type": "stream",
          "text": [
            "Epoch 1/10\n",
            "391/391 [==============================] - 61s 156ms/step - loss: 0.5576 - accuracy: 0.7115 - val_loss: 0.5291 - val_accuracy: 0.7664\n",
            "Epoch 2/10\n",
            "391/391 [==============================] - 61s 156ms/step - loss: 0.3825 - accuracy: 0.8441 - val_loss: 0.4912 - val_accuracy: 0.8144\n",
            "Epoch 3/10\n",
            "391/391 [==============================] - 61s 156ms/step - loss: 0.3276 - accuracy: 0.8753 - val_loss: 0.4047 - val_accuracy: 0.8370\n",
            "Epoch 4/10\n",
            "391/391 [==============================] - 61s 155ms/step - loss: 0.3072 - accuracy: 0.8766 - val_loss: 0.4704 - val_accuracy: 0.8071\n",
            "Epoch 5/10\n",
            "391/391 [==============================] - 61s 156ms/step - loss: 0.2392 - accuracy: 0.9107 - val_loss: 0.4299 - val_accuracy: 0.8165\n",
            "Epoch 6/10\n",
            "391/391 [==============================] - 61s 157ms/step - loss: 0.1908 - accuracy: 0.9311 - val_loss: 0.4194 - val_accuracy: 0.8388\n",
            "Epoch 7/10\n",
            "391/391 [==============================] - 60s 155ms/step - loss: 0.1645 - accuracy: 0.9411 - val_loss: 0.5066 - val_accuracy: 0.8273\n",
            "Epoch 8/10\n",
            "391/391 [==============================] - 61s 155ms/step - loss: 0.2062 - accuracy: 0.9201 - val_loss: 0.5970 - val_accuracy: 0.7056\n",
            "Epoch 9/10\n",
            "391/391 [==============================] - 61s 155ms/step - loss: 0.2365 - accuracy: 0.9045 - val_loss: 0.5018 - val_accuracy: 0.8123\n",
            "Epoch 10/10\n",
            "391/391 [==============================] - 60s 154ms/step - loss: 0.1371 - accuracy: 0.9522 - val_loss: 0.6007 - val_accuracy: 0.8109\n"
          ],
          "name": "stdout"
        }
      ]
    },
    {
      "cell_type": "code",
      "metadata": {
        "id": "3s3BzV3g4_Ho",
        "colab_type": "code",
        "colab": {}
      },
      "source": [
        "import matplotlib.pyplot as plt\n",
        "\n",
        "def plot_graphs(history,string):\n",
        "  plt.plot(history.history[string])\n",
        "  plt.plot(history.history['val_'+string])\n",
        "  plt.xlabel(\"Epochs\")\n",
        "  plt.ylabel(string)\n",
        "  plt.legend([string,'val_'+string])\n",
        "  plt.show()"
      ],
      "execution_count": 26,
      "outputs": []
    },
    {
      "cell_type": "code",
      "metadata": {
        "id": "hCmJkr_A4_Fn",
        "colab_type": "code",
        "colab": {
          "base_uri": "https://localhost:8080/",
          "height": 279
        },
        "outputId": "61ec321d-c7c5-4747-b0aa-2dd94367a6c0"
      },
      "source": [
        "plot_graphs(history, 'accuracy')"
      ],
      "execution_count": 27,
      "outputs": [
        {
          "output_type": "display_data",
          "data": {
            "image/png": "[encoded data removed]",
            "text/plain": [
              "<Figure size 432x288 with 1 Axes>"
            ]
          },
          "metadata": {
            "tags": [],
            "needs_background": "light"
          }
        }
      ]
    },
    {
      "cell_type": "code",
      "metadata": {
        "id": "0IVZLdxc4_Al",
        "colab_type": "code",
        "colab": {
          "base_uri": "https://localhost:8080/",
          "height": 279
        },
        "outputId": "1409d285-211d-4422-9ef9-69a95ae9b7c5"
      },
      "source": [
        "plot_graphs(history, 'loss')"
      ],
      "execution_count": 28,
      "outputs": [
        {
          "output_type": "display_data",
          "data": {
            "image/png": "[encoded data removed]",
            "text/plain": [
              "<Figure size 432x288 with 1 Axes>"
            ]
          },
          "metadata": {
            "tags": [],
            "needs_background": "light"
          }
        }
      ]
    },
    {
      "cell_type": "code",
      "metadata": {
        "id": "V5Gy2e-V4-17",
        "colab_type": "code",
        "colab": {}
      },
      "source": [
        ""
      ],
      "execution_count": null,
      "outputs": []
    },
    {
      "cell_type": "code",
      "metadata": {
        "id": "1BR9K17c4-pI",
        "colab_type": "code",
        "colab": {}
      },
      "source": [
        ""
      ],
      "execution_count": null,
      "outputs": []
    },
    {
      "cell_type": "code",
      "metadata": {
        "id": "acrsD3t64-Ti",
        "colab_type": "code",
        "colab": {}
      },
      "source": [
        ""
      ],
      "execution_count": null,
      "outputs": []
    }
  ]
}
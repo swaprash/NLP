{
  "nbformat": 4,
  "nbformat_minor": 0,
  "metadata": {
    "colab": {
      "name": "Text_classifier_sarcasm_Db",
      "provenance": [],
      "authorship_tag": "ABX9TyNa0lvmN4/oSMzYqqnNY7hm"
    },
    "kernelspec": {
      "name": "python3",
      "display_name": "Python 3"
    }
  },
  "cells": [
    {
      "cell_type": "code",
      "metadata": {
        "colab_type": "code",
        "id": "4gs9htvM7n_x",
        "colab": {}
      },
      "source": [
        "# Run this to ensure TensorFlow 2.x is used\n",
        "try:\n",
        "  # %tensorflow_version only exists in Colab.\n",
        "  %tensorflow_version 2.x\n",
        "except Exception:\n",
        "  pass"
      ],
      "execution_count": 0,
      "outputs": []
    },
    {
      "cell_type": "code",
      "metadata": {
        "colab_type": "code",
        "id": "XYYDvoskkE61",
        "colab": {}
      },
      "source": [
        "import json\n",
        "import tensorflow as tf\n",
        "\n",
        "from tensorflow.keras.preprocessing.text import Tokenizer\n",
        "from tensorflow.keras.preprocessing.sequence import pad_sequences"
      ],
      "execution_count": 0,
      "outputs": []
    },
    {
      "cell_type": "code",
      "metadata": {
        "colab_type": "code",
        "id": "0eJSTTYnkJQd",
        "colab": {}
      },
      "source": [
        "vocab_size = 10000\n",
        "embedding_dim = 16\n",
        "max_length = 100\n",
        "trunc_type='post'\n",
        "padding_type='post'\n",
        "oov_tok = \"<OOV>\"\n",
        "training_size = 20000\n"
      ],
      "execution_count": 0,
      "outputs": []
    },
    {
      "cell_type": "code",
      "metadata": {
        "colab_type": "code",
        "id": "BQVuQrZNkPn9",
        "colab": {
          "base_uri": "https://localhost:8080/",
          "height": 204
        },
        "outputId": "d194454d-cbaa-4310-9f77-f98856fff015"
      },
      "source": [
        "!wget --no-check-certificate \\\n",
        "    https://storage.googleapis.com/laurencemoroney-blog.appspot.com/sarcasm.json \\\n",
        "    -O /tmp/sarcasm.json\n"
      ],
      "execution_count": 4,
      "outputs": [
        {
          "output_type": "stream",
          "text": [
            "--2020-06-11 18:21:16--  https://storage.googleapis.com/laurencemoroney-blog.appspot.com/sarcasm.json\n",
            "Resolving storage.googleapis.com (storage.googleapis.com)... 173.194.193.128, 2607:f8b0:4001:c06::80\n",
            "Connecting to storage.googleapis.com (storage.googleapis.com)|173.194.193.128|:443... connected.\n",
            "HTTP request sent, awaiting response... 200 OK\n",
            "Length: 5643545 (5.4M) [application/json]\n",
            "Saving to: ‘/tmp/sarcasm.json’\n",
            "\n",
            "/tmp/sarcasm.json   100%[===================>]   5.38M  --.-KB/s    in 0.08s   \n",
            "\n",
            "2020-06-11 18:21:17 (69.7 MB/s) - ‘/tmp/sarcasm.json’ saved [5643545/5643545]\n",
            "\n"
          ],
          "name": "stdout"
        }
      ]
    },
    {
      "cell_type": "code",
      "metadata": {
        "colab_type": "code",
        "id": "oaLaaqhNkUPd",
        "colab": {}
      },
      "source": [
        "with open(\"/tmp/sarcasm.json\", 'r') as f:\n",
        "    datastore = json.load(f)\n",
        "\n",
        "sentences = []\n",
        "labels = []\n",
        "\n",
        "for item in datastore:\n",
        "    sentences.append(item['headline'])\n",
        "    labels.append(item['is_sarcastic'])"
      ],
      "execution_count": 0,
      "outputs": []
    },
    {
      "cell_type": "code",
      "metadata": {
        "colab_type": "code",
        "id": "S1sD-7v0kYWk",
        "colab": {}
      },
      "source": [
        "training_sentences = sentences[0:training_size]\n",
        "testing_sentences = sentences[training_size:]\n",
        "training_labels = labels[0:training_size]\n",
        "testing_labels = labels[training_size:]"
      ],
      "execution_count": 0,
      "outputs": []
    },
    {
      "cell_type": "code",
      "metadata": {
        "colab_type": "code",
        "id": "3u8UB0MCkZ5N",
        "colab": {}
      },
      "source": [
        "tokenizer = Tokenizer(num_words=vocab_size, oov_token=oov_tok)\n",
        "tokenizer.fit_on_texts(training_sentences)\n",
        "\n",
        "word_index = tokenizer.word_index\n",
        "\n",
        "training_sequences = tokenizer.texts_to_sequences(training_sentences)\n",
        "training_padded = pad_sequences(training_sequences, maxlen=max_length, padding=padding_type, truncating=trunc_type)\n",
        "\n",
        "testing_sequences = tokenizer.texts_to_sequences(testing_sentences)\n",
        "testing_padded = pad_sequences(testing_sequences, maxlen=max_length, padding=padding_type, truncating=trunc_type)"
      ],
      "execution_count": 0,
      "outputs": []
    },
    {
      "cell_type": "code",
      "metadata": {
        "colab_type": "code",
        "id": "GrAlWBKf99Ya",
        "colab": {}
      },
      "source": [
        "# Need this block to get it to work with TensorFlow 2.x\n",
        "import numpy as np\n",
        "training_padded = np.array(training_padded)\n",
        "training_labels = np.array(training_labels)\n",
        "testing_padded = np.array(testing_padded)\n",
        "testing_labels = np.array(testing_labels)"
      ],
      "execution_count": 0,
      "outputs": []
    },
    {
      "cell_type": "code",
      "metadata": {
        "colab_type": "code",
        "id": "FufaT4vlkiDE",
        "colab": {}
      },
      "source": [
        "model = tf.keras.Sequential([\n",
        "    tf.keras.layers.Embedding(vocab_size, embedding_dim, input_length=max_length),\n",
        "    tf.keras.layers.GlobalAveragePooling1D(),\n",
        "    tf.keras.layers.Dense(24, activation='relu'),\n",
        "    tf.keras.layers.Dense(1, activation='sigmoid')\n",
        "])\n",
        "model.compile(loss='binary_crossentropy',optimizer='adam',metrics=['accuracy'])"
      ],
      "execution_count": 0,
      "outputs": []
    },
    {
      "cell_type": "code",
      "metadata": {
        "id": "EXD87g9OoMMA",
        "colab_type": "code",
        "colab": {
          "base_uri": "https://localhost:8080/",
          "height": 289
        },
        "outputId": "19cd3e03-37bb-4cb2-ca41-e435878b4c34"
      },
      "source": [
        "model.summary()"
      ],
      "execution_count": 10,
      "outputs": [
        {
          "output_type": "stream",
          "text": [
            "Model: \"sequential\"\n",
            "_________________________________________________________________\n",
            "Layer (type)                 Output Shape              Param #   \n",
            "=================================================================\n",
            "embedding (Embedding)        (None, 100, 16)           160000    \n",
            "_________________________________________________________________\n",
            "global_average_pooling1d (Gl (None, 16)                0         \n",
            "_________________________________________________________________\n",
            "dense (Dense)                (None, 24)                408       \n",
            "_________________________________________________________________\n",
            "dense_1 (Dense)              (None, 1)                 25        \n",
            "=================================================================\n",
            "Total params: 160,433\n",
            "Trainable params: 160,433\n",
            "Non-trainable params: 0\n",
            "_________________________________________________________________\n"
          ],
          "name": "stdout"
        }
      ]
    },
    {
      "cell_type": "code",
      "metadata": {
        "colab_type": "code",
        "id": "2DTKQFf1kkyc",
        "colab": {
          "base_uri": "https://localhost:8080/",
          "height": 1000
        },
        "outputId": "ab9785c2-cfa0-4ef7-e0e5-6aceefc5d42c"
      },
      "source": [
        "num_epochs = 30\n",
        "history = model.fit(training_padded, training_labels, epochs=num_epochs, validation_data=(testing_padded, testing_labels), verbose=2)"
      ],
      "execution_count": 11,
      "outputs": [
        {
          "output_type": "stream",
          "text": [
            "Epoch 1/30\n",
            "625/625 - 3s - loss: 0.6614 - accuracy: 0.5943 - val_loss: 0.5663 - val_accuracy: 0.7813\n",
            "Epoch 2/30\n",
            "625/625 - 2s - loss: 0.4233 - accuracy: 0.8339 - val_loss: 0.3912 - val_accuracy: 0.8264\n",
            "Epoch 3/30\n",
            "625/625 - 2s - loss: 0.3080 - accuracy: 0.8769 - val_loss: 0.3561 - val_accuracy: 0.8459\n",
            "Epoch 4/30\n",
            "625/625 - 2s - loss: 0.2563 - accuracy: 0.8995 - val_loss: 0.3417 - val_accuracy: 0.8553\n",
            "Epoch 5/30\n",
            "625/625 - 2s - loss: 0.2202 - accuracy: 0.9166 - val_loss: 0.3452 - val_accuracy: 0.8581\n",
            "Epoch 6/30\n",
            "625/625 - 2s - loss: 0.1925 - accuracy: 0.9265 - val_loss: 0.3626 - val_accuracy: 0.8486\n",
            "Epoch 7/30\n",
            "625/625 - 2s - loss: 0.1719 - accuracy: 0.9358 - val_loss: 0.3690 - val_accuracy: 0.8504\n",
            "Epoch 8/30\n",
            "625/625 - 2s - loss: 0.1541 - accuracy: 0.9431 - val_loss: 0.3956 - val_accuracy: 0.8457\n",
            "Epoch 9/30\n",
            "625/625 - 2s - loss: 0.1376 - accuracy: 0.9507 - val_loss: 0.3983 - val_accuracy: 0.8508\n",
            "Epoch 10/30\n",
            "625/625 - 2s - loss: 0.1242 - accuracy: 0.9560 - val_loss: 0.4221 - val_accuracy: 0.8483\n",
            "Epoch 11/30\n",
            "625/625 - 2s - loss: 0.1118 - accuracy: 0.9613 - val_loss: 0.4431 - val_accuracy: 0.8474\n",
            "Epoch 12/30\n",
            "625/625 - 2s - loss: 0.1021 - accuracy: 0.9660 - val_loss: 0.4852 - val_accuracy: 0.8374\n",
            "Epoch 13/30\n",
            "625/625 - 2s - loss: 0.0926 - accuracy: 0.9683 - val_loss: 0.5165 - val_accuracy: 0.8313\n",
            "Epoch 14/30\n",
            "625/625 - 2s - loss: 0.0859 - accuracy: 0.9706 - val_loss: 0.5355 - val_accuracy: 0.8381\n",
            "Epoch 15/30\n",
            "625/625 - 2s - loss: 0.0777 - accuracy: 0.9753 - val_loss: 0.5658 - val_accuracy: 0.8350\n",
            "Epoch 16/30\n",
            "625/625 - 2s - loss: 0.0701 - accuracy: 0.9779 - val_loss: 0.6082 - val_accuracy: 0.8329\n",
            "Epoch 17/30\n",
            "625/625 - 2s - loss: 0.0656 - accuracy: 0.9789 - val_loss: 0.6218 - val_accuracy: 0.8328\n",
            "Epoch 18/30\n",
            "625/625 - 2s - loss: 0.0606 - accuracy: 0.9803 - val_loss: 0.6601 - val_accuracy: 0.8305\n",
            "Epoch 19/30\n",
            "625/625 - 2s - loss: 0.0548 - accuracy: 0.9823 - val_loss: 0.6932 - val_accuracy: 0.8298\n",
            "Epoch 20/30\n",
            "625/625 - 2s - loss: 0.0498 - accuracy: 0.9846 - val_loss: 0.7468 - val_accuracy: 0.8247\n",
            "Epoch 21/30\n",
            "625/625 - 2s - loss: 0.0467 - accuracy: 0.9848 - val_loss: 0.7696 - val_accuracy: 0.8225\n",
            "Epoch 22/30\n",
            "625/625 - 2s - loss: 0.0425 - accuracy: 0.9873 - val_loss: 0.8162 - val_accuracy: 0.8202\n",
            "Epoch 23/30\n",
            "625/625 - 2s - loss: 0.0380 - accuracy: 0.9893 - val_loss: 0.8336 - val_accuracy: 0.8214\n",
            "Epoch 24/30\n",
            "625/625 - 2s - loss: 0.0347 - accuracy: 0.9901 - val_loss: 0.8793 - val_accuracy: 0.8179\n",
            "Epoch 25/30\n",
            "625/625 - 2s - loss: 0.0335 - accuracy: 0.9908 - val_loss: 0.9178 - val_accuracy: 0.8177\n",
            "Epoch 26/30\n",
            "625/625 - 2s - loss: 0.0300 - accuracy: 0.9911 - val_loss: 0.9524 - val_accuracy: 0.8186\n",
            "Epoch 27/30\n",
            "625/625 - 2s - loss: 0.0284 - accuracy: 0.9917 - val_loss: 0.9988 - val_accuracy: 0.8128\n",
            "Epoch 28/30\n",
            "625/625 - 2s - loss: 0.0263 - accuracy: 0.9927 - val_loss: 1.0275 - val_accuracy: 0.8149\n",
            "Epoch 29/30\n",
            "625/625 - 2s - loss: 0.0228 - accuracy: 0.9941 - val_loss: 1.0639 - val_accuracy: 0.8125\n",
            "Epoch 30/30\n",
            "625/625 - 2s - loss: 0.0237 - accuracy: 0.9930 - val_loss: 1.1012 - val_accuracy: 0.8140\n"
          ],
          "name": "stdout"
        }
      ]
    },
    {
      "cell_type": "code",
      "metadata": {
        "colab_type": "code",
        "id": "2HYfBKXjkmU8",
        "colab": {
          "base_uri": "https://localhost:8080/",
          "height": 541
        },
        "outputId": "df09b255-7ac6-4b38-a5f5-d303d2cf53be"
      },
      "source": [
        "import matplotlib.pyplot as plt\n",
        "\n",
        "\n",
        "def plot_graphs(history, string):\n",
        "  plt.plot(history.history[string])\n",
        "  plt.plot(history.history['val_'+string])\n",
        "  plt.xlabel(\"Epochs\")\n",
        "  plt.ylabel(string)\n",
        "  plt.legend([string, 'val_'+string])\n",
        "  plt.show()\n",
        "  \n",
        "plot_graphs(history, \"accuracy\")\n",
        "plot_graphs(history, \"loss\")"
      ],
      "execution_count": 12,
      "outputs": [
        {
          "output_type": "display_data",
          "data": {
            "image/png": "[encoded data removed]",
            "text/plain": [
              "<Figure size 432x288 with 1 Axes>"
            ]
          },
          "metadata": {
            "tags": [],
            "needs_background": "light"
          }
        },
        {
          "output_type": "display_data",
          "data": {
            "image/png": "[encoded data removed]",
            "text/plain": [
              "<Figure size 432x288 with 1 Axes>"
            ]
          },
          "metadata": {
            "tags": [],
            "needs_background": "light"
          }
        }
      ]
    },
    {
      "cell_type": "code",
      "metadata": {
        "colab_type": "code",
        "id": "7SBdAZAenvzL",
        "colab": {
          "base_uri": "https://localhost:8080/",
          "height": 88
        },
        "outputId": "80ce656d-82f0-4795-df6f-4ea4443e40b7"
      },
      "source": [
        "reverse_word_index = dict([(value, key) for (key, value) in word_index.items()])\n",
        "\n",
        "def decode_sentence(text):\n",
        "    return ' '.join([reverse_word_index.get(i, '?') for i in text])\n",
        "\n",
        "print(decode_sentence(training_padded[0]))\n",
        "print(training_sentences[2])\n",
        "print(labels[2])"
      ],
      "execution_count": 13,
      "outputs": [
        {
          "output_type": "stream",
          "text": [
            "former <OOV> store clerk sues over secret 'black <OOV> for minority shoppers ? ? ? ? ? ? ? ? ? ? ? ? ? ? ? ? ? ? ? ? ? ? ? ? ? ? ? ? ? ? ? ? ? ? ? ? ? ? ? ? ? ? ? ? ? ? ? ? ? ? ? ? ? ? ? ? ? ? ? ? ? ? ? ? ? ? ? ? ? ? ? ? ? ? ? ? ? ? ? ? ? ? ? ? ? ? ? ?\n",
            "mom starting to fear son's web series closest thing she will have to grandchild\n",
            "1\n"
          ],
          "name": "stdout"
        }
      ]
    },
    {
      "cell_type": "code",
      "metadata": {
        "colab_type": "code",
        "id": "c9MqihtEkzQ9",
        "colab": {
          "base_uri": "https://localhost:8080/",
          "height": 34
        },
        "outputId": "2b4a6646-0eb5-433f-d11c-36c24fefaa5e"
      },
      "source": [
        "e = model.layers[0]\n",
        "weights = e.get_weights()[0]\n",
        "print(weights.shape) # shape: (vocab_size, embedding_dim)\n"
      ],
      "execution_count": 14,
      "outputs": [
        {
          "output_type": "stream",
          "text": [
            "(10000, 16)\n"
          ],
          "name": "stdout"
        }
      ]
    },
    {
      "cell_type": "code",
      "metadata": {
        "id": "P0IU4aplpJ5X",
        "colab_type": "code",
        "colab": {}
      },
      "source": [
        ""
      ],
      "execution_count": 0,
      "outputs": []
    },
    {
      "cell_type": "code",
      "metadata": {
        "colab_type": "code",
        "id": "LoBXVffknldU",
        "colab": {}
      },
      "source": [
        "import io\n",
        "\n",
        "out_v = io.open('vecs.tsv', 'w', encoding='utf-8')\n",
        "out_m = io.open('meta.tsv', 'w', encoding='utf-8')\n",
        "for word_num in range(1, vocab_size):\n",
        "  word = reverse_word_index[word_num]\n",
        "  embeddings = weights[word_num]\n",
        "  out_m.write(word + \"\\n\")\n",
        "  out_v.write('\\t'.join([str(x) for x in embeddings]) + \"\\n\")\n",
        "out_v.close()\n",
        "out_m.close()"
      ],
      "execution_count": 0,
      "outputs": []
    },
    {
      "cell_type": "code",
      "metadata": {
        "id": "9bzIIbqjpQkK",
        "colab_type": "code",
        "colab": {}
      },
      "source": [
        "try:\n",
        "  from google.colab import files\n",
        "except ImportError:\n",
        "  pass\n",
        "else:\n",
        "  files.download('vecs.tsv')\n",
        "  files.download('meta.tsv')"
      ],
      "execution_count": 0,
      "outputs": []
    },
    {
      "cell_type": "code",
      "metadata": {
        "id": "HviAA2F2pVWt",
        "colab_type": "code",
        "colab": {}
      },
      "source": [
        ""
      ],
      "execution_count": 0,
      "outputs": []
    }
  ]
}